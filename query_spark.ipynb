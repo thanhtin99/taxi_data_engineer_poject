{
 "cells": [
  {
   "cell_type": "code",
   "execution_count": 1,
   "metadata": {},
   "outputs": [],
   "source": [
    "from pyspark.sql import SparkSession\n",
    "from pyspark.sql.functions import *\n",
    "from delta import *\n",
    "import pandas as pd\n",
    "# start spark session\n",
    "\n",
    "jars = \"libs/hadoop-aws-3.3.4.jar,libs/postgresql-42.2.20.jar,libs/aws-java-sdk-bundle-1.12.260.jar\"\n",
    "builder = SparkSession.builder \\\n",
    "    .master(\"local[*]\") \\\n",
    "    .appName('uber_analyst') \\\n",
    "    .config(\"spark.executor.memory\", \"8g\") \\\n",
    "    .config(\"spark.driver.memory\", \"8g\") \\\n",
    "    .config(\"spark.dynamicAllocation.enabled\", \"true\") \\\n",
    "    .config(\"spark.dynamicAllocation.minExecutors\", \"1\") \\\n",
    "    .config(\"spark.dynamicAllocation.maxExecutors\", \"10\") \\\n",
    "    .config(\"spark.shuffle.spill\", \"true\") \\\n",
    "    .config(\"spark.sql.extensions\", \"io.delta.sql.DeltaSparkSessionExtension\") \\\n",
    "    .config(\"spark.sql.catalog.spark_catalog\", \"org.apache.spark.sql.delta.catalog.DeltaCatalog\")\\\n",
    "    .config(\"spark.jars\", jars) \\\n",
    "    .config(\"spark.sql.debug.maxToStringFields\", 1000)\\\n",
    "    .config(\"spark.sql.extensions\", \"io.delta.sql.DeltaSparkSessionExtension\")\\\n",
    "    .config(\"spark.hadoop.fs.s3a.endpoint\", f\"http://localhost:9000\")\\\n",
    "    .config(\"spark.hadoop.fs.s3a.access.key\", \"admin\")\\\n",
    "    .config(\"spark.hadoop.fs.s3a.secret.key\", \"123456789\")\\\n",
    "    .config(\"spark.hadoop.fs.s3a.path.style.access\", \"true\")\\\n",
    "    .config(\"spark.hadoop.fs.connection.ssl.enabled\", \"false\")\\\n",
    "    .config(\n",
    "                \"spark.hadoop.fs.s3a.impl\", \"org.apache.hadoop.fs.s3a.S3AFileSystem\"\n",
    "            )\\\n",
    "    .config('spark.hadoop.fs.s3a.aws.credentials.provider', 'org.apache.hadoop.fs.s3a.SimpleAWSCredentialsProvider')\\\n",
    "    .config('spark.sql.warehouse.dir', f's3a://delta-uber/')"
   ]
  },
  {
   "cell_type": "code",
   "execution_count": 2,
   "metadata": {},
   "outputs": [],
   "source": [
    "spark = configure_spark_with_delta_pip(builder, extra_packages=[\"org.apache.hadoop:hadoop-aws:3.3.4\"]).getOrCreate()"
   ]
  },
  {
   "cell_type": "code",
   "execution_count": 3,
   "metadata": {},
   "outputs": [
    {
     "data": {
      "text/html": [
       "\n",
       "            <div>\n",
       "                <p><b>SparkSession - in-memory</b></p>\n",
       "                \n",
       "        <div>\n",
       "            <p><b>SparkContext</b></p>\n",
       "\n",
       "            <p><a href=\"http://ThanhTin.mshome.net:4040\">Spark UI</a></p>\n",
       "\n",
       "            <dl>\n",
       "              <dt>Version</dt>\n",
       "                <dd><code>v3.5.3</code></dd>\n",
       "              <dt>Master</dt>\n",
       "                <dd><code>local[*]</code></dd>\n",
       "              <dt>AppName</dt>\n",
       "                <dd><code>uber_analyst</code></dd>\n",
       "            </dl>\n",
       "        </div>\n",
       "        \n",
       "            </div>\n",
       "        "
      ],
      "text/plain": [
       "<pyspark.sql.session.SparkSession at 0x1c56d1ef010>"
      ]
     },
     "execution_count": 3,
     "metadata": {},
     "output_type": "execute_result"
    }
   ],
   "source": [
    "spark"
   ]
  },
  {
   "cell_type": "code",
   "execution_count": 4,
   "metadata": {},
   "outputs": [
    {
     "name": "stdout",
     "output_type": "stream",
     "text": [
      "Đã tạo view tạm thời cho tất cả các bảng\n"
     ]
    }
   ],
   "source": [
    "minio_bucket = \"delta-uber\"\n",
    "list_table = ['fact_table', 'datetime_dim', 'pickup_location_dim', 'dropoff_location_dim', 'passenger_count_dim', 'trip_distance_dim', 'rate_code_dim', 'payment_type_dim']\n",
    "\n",
    "for table_name in list_table:\n",
    "    df = spark.read.format(\"delta\").load(f\"s3a://{minio_bucket}/uber/{table_name}\")\n",
    "    df.createOrReplaceTempView(table_name)\n",
    "\n",
    "print(\"Đã tạo view tạm thời cho tất cả các bảng\")"
   ]
  },
  {
   "cell_type": "code",
   "execution_count": 5,
   "metadata": {},
   "outputs": [
    {
     "name": "stdout",
     "output_type": "stream",
     "text": [
      "+---------------+------------+-----------------+\n",
      "|payment_type_id|payment_type|payment_type_name|\n",
      "+---------------+------------+-----------------+\n",
      "+---------------+------------+-----------------+\n",
      "\n"
     ]
    }
   ],
   "source": [
    "df.show()"
   ]
  },
  {
   "cell_type": "code",
   "execution_count": 6,
   "metadata": {},
   "outputs": [
    {
     "name": "stdout",
     "output_type": "stream",
     "text": [
      "+-----------+\n",
      "|total_trips|\n",
      "+-----------+\n",
      "|     150000|\n",
      "+-----------+\n",
      "\n"
     ]
    }
   ],
   "source": [
    "# Tổng số chuyến đi\n",
    "total_trips = spark.sql(\"SELECT COUNT(*) as total_trips FROM fact_table\")\n",
    "total_trips.show()"
   ]
  },
  {
   "cell_type": "code",
   "execution_count": 7,
   "metadata": {},
   "outputs": [
    {
     "name": "stdout",
     "output_type": "stream",
     "text": [
      "+--------+-----------+------------------+-------------------+------------------+----------------+------------+---------------+-----------+-----+-------+----------+------------+---------------------+------------+\n",
      "|vendorid|datetime_id|pickup_location_id|dropoff_location_id|passenger_count_id|trip_distance_id|rate_code_id|payment_type_id|fare_amount|extra|mta_tax|tip_amount|tolls_amount|improvement_surcharge|total_amount|\n",
      "+--------+-----------+------------------+-------------------+------------------+----------------+------------+---------------+-----------+-----+-------+----------+------------+---------------------+------------+\n",
      "|       2|60129542144|       60129542144|        60129542144|       60129542144|     60129542144| 60129542144|    60129542144|       35.5|  0.5|    0.5|     11.04|         0.0|                  0.3|       47.84|\n",
      "|       1|60129542145|       60129542145|        60129542145|       60129542145|     60129542145| 60129542145|    60129542145|        7.0|  0.5|    0.5|       0.0|         0.0|                  0.3|         8.3|\n",
      "|       1|60129542146|       60129542146|        60129542146|       60129542146|     60129542146| 60129542146|    60129542146|        6.0|  0.5|    0.5|      2.15|         0.0|                  0.3|        9.45|\n",
      "|       1|60129542147|       60129542147|        60129542147|       60129542147|     60129542147| 60129542147|    60129542147|        5.5|  0.5|    0.5|       0.0|         0.0|                  0.3|         6.8|\n",
      "|       2|60129542148|       60129542148|        60129542148|       60129542148|     60129542148| 60129542148|    60129542148|        8.0|  0.5|    0.5|       0.0|         0.0|                  0.3|         9.3|\n",
      "|       2|60129542149|       60129542149|        60129542149|       60129542149|     60129542149| 60129542149|    60129542149|       11.5|  0.5|    0.5|       0.0|         0.0|                  0.3|        12.8|\n",
      "|       1|60129542150|       60129542150|        60129542150|       60129542150|     60129542150| 60129542150|    60129542150|        5.0|  0.5|    0.5|      1.85|         0.0|                  0.3|        8.15|\n",
      "|       1|60129542151|       60129542151|        60129542151|       60129542151|     60129542151| 60129542151|    60129542151|       11.5|  0.5|    0.5|       0.0|         0.0|                  0.3|        12.8|\n",
      "|       2|60129542152|       60129542152|        60129542152|       60129542152|     60129542152| 60129542152|    60129542152|       13.5|  0.5|    0.5|      4.44|         0.0|                  0.3|       19.24|\n",
      "|       1|60129542153|       60129542153|        60129542153|       60129542153|     60129542153| 60129542153|    60129542153|       10.5|  0.5|    0.5|      2.35|         0.0|                  0.3|       14.15|\n",
      "|       2|60129542154|       60129542154|        60129542154|       60129542154|     60129542154| 60129542154|    60129542154|       13.5|  0.5|    0.5|      2.96|         0.0|                  0.3|       17.76|\n",
      "|       1|60129542155|       60129542155|        60129542155|       60129542155|     60129542155| 60129542155|    60129542155|        6.5|  0.5|    0.5|       0.0|         0.0|                  0.3|         7.8|\n",
      "|       2|60129542156|       60129542156|        60129542156|       60129542156|     60129542156| 60129542156|    60129542156|       17.0|  0.5|    0.5|      2.74|         0.0|                  0.3|       21.04|\n",
      "|       2|60129542157|       60129542157|        60129542157|       60129542157|     60129542157| 60129542157|    60129542157|        5.5|  0.5|    0.5|      1.36|         0.0|                  0.3|        8.16|\n",
      "|       2|60129542158|       60129542158|        60129542158|       60129542158|     60129542158| 60129542158|    60129542158|        7.5|  0.5|    0.5|       0.0|         0.0|                  0.3|         8.8|\n",
      "|       2|60129542159|       60129542159|        60129542159|       60129542159|     60129542159| 60129542159|    60129542159|       31.0|  0.5|    0.5|       0.0|         0.0|                  0.3|        32.3|\n",
      "|       1|60129542160|       60129542160|        60129542160|       60129542160|     60129542160| 60129542160|    60129542160|        5.5|  0.5|    0.5|      1.35|         0.0|                  0.3|        8.15|\n",
      "|       1|60129542161|       60129542161|        60129542161|       60129542161|     60129542161| 60129542161|    60129542161|       13.0|  0.5|    0.5|       0.0|         0.0|                  0.3|        14.3|\n",
      "|       2|60129542162|       60129542162|        60129542162|       60129542162|     60129542162| 60129542162|    60129542162|        4.5|  0.5|    0.5|      1.16|         0.0|                  0.3|        6.96|\n",
      "|       2|60129542163|       60129542163|        60129542163|       60129542163|     60129542163| 60129542163|    60129542163|       16.0|  0.5|    0.5|      3.46|         0.0|                  0.3|       20.76|\n",
      "+--------+-----------+------------------+-------------------+------------------+----------------+------------+---------------+-----------+-----+-------+----------+------------+---------------------+------------+\n",
      "only showing top 20 rows\n",
      "\n"
     ]
    }
   ],
   "source": [
    "# Tổng số chuyến đi\n",
    "total_trips = spark.sql(\"SELECT * FROM fact_table\")\n",
    "total_trips.show()"
   ]
  },
  {
   "cell_type": "code",
   "execution_count": null,
   "metadata": {},
   "outputs": [],
   "source": [
    "# Tổng số chuyến đi\n",
    "total_trips = spark.sql(\"SELECT COUNT(*) as total_trips FROM fact_table\")\n",
    "total_trips.show()\n",
    "\n",
    "# Tổng doanh thu\n",
    "total_revenue = spark.sql(\"SELECT SUM(total_amount) as total_revenue FROM fact_table\")\n",
    "total_revenue.show()\n",
    "\n",
    "# Khoảng cách trung bình của chuyến đi\n",
    "avg_distance = spark.sql(\"SELECT AVG(trip_distance) as avg_distance FROM trip_distance_dim\")\n",
    "avg_distance.show()\n",
    "\n",
    "# Phân bố phương thức thanh toán\n",
    "payment_distribution = spark.sql(\"\"\"\n",
    "    SELECT p.payment_type_name, COUNT(*) as count\n",
    "    FROM fact_table f\n",
    "    JOIN payment_type_dim p ON f.payment_type_id = p.payment_type_id\n",
    "    GROUP BY p.payment_type_name\n",
    "    ORDER BY count DESC\n",
    "\"\"\")\n",
    "payment_distribution.show()\n",
    "\n",
    "# Tổng doanh thu theo loại giá cước\n",
    "revenue_by_rate_code = spark.sql(\"\"\"\n",
    "    SELECT r.rate_code_name, SUM(f.total_amount) as total_revenue\n",
    "    FROM fact_table f\n",
    "    JOIN rate_code_dim r ON f.rate_code_id = r.rate_code_id\n",
    "    GROUP BY r.rate_code_name\n",
    "    ORDER BY total_revenue DESC\n",
    "\"\"\")\n",
    "revenue_by_rate_code.show()"
   ]
  },
  {
   "cell_type": "code",
   "execution_count": null,
   "metadata": {},
   "outputs": [],
   "source": [
    "# Phân tích theo thời gian\n",
    "hourly_analysis = spark.sql(\"\"\"\n",
    "    SELECT d.pickup_hour, AVG(f.total_amount) as avg_fare, COUNT(*) as trip_count\n",
    "    FROM fact_table f\n",
    "    JOIN datetime_dim d ON f.datetime_id = d.datetime_id\n",
    "    GROUP BY d.pickup_hour\n",
    "    ORDER BY d.pickup_hour\n",
    "\"\"\")\n",
    "hourly_analysis.show()\n",
    "\n",
    "# Phân tích theo vị trí địa lý\n",
    "location_analysis = spark.sql(\"\"\"\n",
    "    SELECT \n",
    "        p.pickup_latitude, p.pickup_longitude, \n",
    "        COUNT(*) as trip_count,\n",
    "        AVG(f.total_amount) as avg_fare\n",
    "    FROM fact_table f\n",
    "    JOIN pickup_location_dim p ON f.pickup_location_id = p.pickup_location_id\n",
    "    GROUP BY p.pickup_latitude, p.pickup_longitude\n",
    "    ORDER BY trip_count DESC\n",
    "    LIMIT 10\n",
    "\"\"\")\n",
    "location_analysis.show()"
   ]
  },
  {
   "cell_type": "markdown",
   "metadata": {},
   "source": []
  }
 ],
 "metadata": {
  "kernelspec": {
   "display_name": "Python 3",
   "language": "python",
   "name": "python3"
  },
  "language_info": {
   "codemirror_mode": {
    "name": "ipython",
    "version": 3
   },
   "file_extension": ".py",
   "mimetype": "text/x-python",
   "name": "python",
   "nbconvert_exporter": "python",
   "pygments_lexer": "ipython3",
   "version": "3.11.9"
  }
 },
 "nbformat": 4,
 "nbformat_minor": 2
}
